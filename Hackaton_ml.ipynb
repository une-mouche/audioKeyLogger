{
 "cells": [
  {
   "cell_type": "markdown",
   "metadata": {},
   "source": [
    "### Import Modules"
   ]
  },
  {
   "cell_type": "code",
   "execution_count": null,
   "metadata": {
    "collapsed": true
   },
   "outputs": [],
   "source": [
    "from python.read_pics import *\n",
    "from os import listdir\n",
    "from os.path import isfile,join,splitext\n",
    "import pandas as pd\n",
    "import numpy as np\n",
    "import matplotlib.pyplot as plt\n",
    "import time\n",
    "import scipy as sp\n",
    "from sklearn.preprocessing import StandardScaler\n",
    "from sklearn.model_selection import train_test_split\n",
    "from sklearn.ensemble import ExtraTreesClassifier\n",
    "from sklearn.model_selection import GridSearchCV\n",
    "from sklearn.metrics import accuracy_score\n",
    "#from sklearn.linear_model import SGDClassifier\n",
    "#from sklearn.ensemble import RandomForestClassifier\n",
    "#from sklearn.svm import LinearSVC\n",
    "#from sklearn.neural_network import MLPClassifier\n",
    "#from sklearn.neighbors import KNeighborsClassifier\n",
    "#from sklearn.tree import DecisionTreeClassifier\n",
    "#from sklearn.ensemble import AdaBoostClassifier\n"
   ]
  },
  {
   "cell_type": "markdown",
   "metadata": {},
   "source": [
    "### Getting files and pre-processing"
   ]
  },
  {
   "cell_type": "code",
   "execution_count": null,
   "metadata": {
    "collapsed": true
   },
   "outputs": [],
   "source": [
    "fichiers = [f for f in listdir(\"data/\") if isfile(join(\"data/\", f))]"
   ]
  },
  {
   "cell_type": "code",
   "execution_count": null,
   "metadata": {},
   "outputs": [],
   "source": [
    "char_mapping = []\n",
    "data = []\n",
    "cpt = 0\n",
    "for file in fichiers:\n",
    "    char_mapping.append((splitext(file)[0])[5:])\n",
    "    d, _ = get_pics_from_file(\"data/\" + file)\n",
    "    for i in range(len(d)):\n",
    "        d[i] = np.append(d[i], cpt)\n",
    "    cpt += 1\n",
    "    data.append(d)\n",
    "    \n",
    "print(char_mapping)"
   ]
  },
  {
   "cell_type": "code",
   "execution_count": null,
   "metadata": {},
   "outputs": [],
   "source": [
    "for t in range(len(data)):\n",
    "    data[t] = data[t][0:6963]\n",
    "    \n",
    "data = np.array(data)\n",
    "print(data.shape)"
   ]
  },
  {
   "cell_type": "code",
   "execution_count": null,
   "metadata": {},
   "outputs": [],
   "source": [
    "data = data.reshape(42*6963, 18)\n",
    "d = pd.DataFrame(data)\n",
    "d.head()"
   ]
  },
  {
   "cell_type": "code",
   "execution_count": null,
   "metadata": {},
   "outputs": [],
   "source": [
    "data.shape"
   ]
  },
  {
   "cell_type": "markdown",
   "metadata": {},
   "source": [
    "### Split data set into a training set and a test one"
   ]
  },
  {
   "cell_type": "code",
   "execution_count": null,
   "metadata": {
    "collapsed": true
   },
   "outputs": [],
   "source": [
    "X_train, X_test, y_train, y_test = train_test_split(data[:, 0:17], data[:, 17], test_size=0.33)"
   ]
  },
  {
   "cell_type": "code",
   "execution_count": null,
   "metadata": {},
   "outputs": [],
   "source": [
    "# Way of defining a good combinaisons of params for the EXTRATREECLASSIFIER algo.\n",
    "'''\n",
    "params = [{'min_samples_leaf': range(2,20,5),\n",
    "          'min_samples_split': range(2,20,5),\n",
    "         'criterion': ('gini', 'entropy')}]\n",
    "clf = GridSearchCV(ExtraTreesClassifier(n_estimators=100), params)\n",
    "clf.fit(X_train, y_train)\n",
    "print(pd.DataFrame.from_dict(clf.cv_results_).loc[:,[\"params\",\"mean_test_score\"]])\n",
    "clf.best_estimator_\n",
    "print(clf.best_score_, clf.best_params_)\n",
    "'''"
   ]
  },
  {
   "cell_type": "markdown",
   "metadata": {},
   "source": [
    "### Training of the model."
   ]
  },
  {
   "cell_type": "code",
   "execution_count": null,
   "metadata": {},
   "outputs": [],
   "source": [
    "# Decrease n_estimators if no sufficient memory.\n",
    "# The more n_estimators is high, the more the IA will be accurate.\n",
    "clf = ExtraTreesClassifier(n_estimators=120)\n",
    "clf.fit(X_train, y_train)\n",
    "res = clf.predict(X_test)\n",
    "accuracy_score(y_test, res)"
   ]
  },
  {
   "cell_type": "markdown",
   "metadata": {},
   "source": [
    "### Detection of login/password"
   ]
  },
  {
   "cell_type": "code",
   "execution_count": null,
   "metadata": {},
   "outputs": [],
   "source": [
    "def keylogger(): \n",
    "    frames, info = get_pics_from_file('pics_LOGINMDP.bin')\n",
    "    histo = [0 for j in range(42)]\n",
    "    result = []\n",
    "    res = clf.predict(frames)\n",
    "    res2 = []\n",
    "    index = 0\n",
    "    for c in res:\n",
    "        index += 1\n",
    "        histo[int(c)] += 1\n",
    "        if index % 50 == 0:\n",
    "            res2.append(char_mapping[np.argmax(histo)])\n",
    "            histo = [0 for j in range(42)]\n",
    "    return res2\n",
    "\n",
    "keylogger()"
   ]
  }
 ],
 "metadata": {
  "kernelspec": {
   "display_name": "Python 3",
   "language": "python",
   "name": "python3"
  },
  "language_info": {
   "codemirror_mode": {
    "name": "ipython",
    "version": 3
   },
   "file_extension": ".py",
   "mimetype": "text/x-python",
   "name": "python",
   "nbconvert_exporter": "python",
   "pygments_lexer": "ipython3",
   "version": "3.6.2"
  }
 },
 "nbformat": 4,
 "nbformat_minor": 2
}

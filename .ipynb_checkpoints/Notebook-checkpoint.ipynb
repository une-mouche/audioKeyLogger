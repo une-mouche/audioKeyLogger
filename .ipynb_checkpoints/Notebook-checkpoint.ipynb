{
 "cells": [
  {
   "cell_type": "code",
   "execution_count": 2,
   "metadata": {
    "collapsed": true
   },
   "outputs": [],
   "source": [
    "from python.read_pics import *\n",
    "import os"
   ]
  },
  {
   "cell_type": "code",
   "execution_count": 3,
   "metadata": {
    "collapsed": true
   },
   "outputs": [],
   "source": [
    "files = []\n",
    "for name in os.listdir(\"data\"):\n",
    "    if name.endswith(\".bin\"):\n",
    "        files.append(name)"
   ]
  },
  {
   "cell_type": "code",
   "execution_count": 80,
   "metadata": {
    "collapsed": true
   },
   "outputs": [],
   "source": [
    "import sys\n",
    "import numpy as np\n",
    "from matplotlib import pyplot\n",
    "\n",
    "import tensorflow as tf\n",
    "from tensorflow import keras\n",
    "from tensorflow.keras import layers\n",
    "from tensorflow.keras.optimizers import SGD\n",
    "\n",
    "from sklearn.model_selection import train_test_split"
   ]
  },
  {
   "cell_type": "code",
   "execution_count": 51,
   "metadata": {
    "collapsed": true
   },
   "outputs": [],
   "source": [
    "opt = SGD(lr=0.01, momentum=0.9)"
   ]
  },
  {
   "cell_type": "code",
   "execution_count": 82,
   "metadata": {},
   "outputs": [
    {
     "name": "stdout",
     "output_type": "stream",
     "text": [
      "Ouverture du fichier de pics data/pics_0.bin\n",
      "Nb pics par trame: 17\n",
      "Frequence d'echantillonnage: 625.0 kHz\n",
      "Frequence trame: 315.0 Hz\n",
      "Frequence pic: 50.0 kHz\n",
      "Facteur de normalisation: 0.05\n",
      "Nb trames: 8701\n",
      "Ouverture du fichier de pics data/pics_1.bin\n",
      "Nb pics par trame: 17\n",
      "Frequence d'echantillonnage: 625.0 kHz\n",
      "Frequence trame: 315.0 Hz\n",
      "Frequence pic: 50.0 kHz\n",
      "Facteur de normalisation: 0.05\n",
      "Nb trames: 8390\n"
     ]
    }
   ],
   "source": [
    "input_set = get_pics_from_file(\"data/\" + files[0])[0] + get_pics_from_file(\"data/\" + files[1])[0]\n",
    "a = [[1, 0]] * (8701 -1)\n",
    "b = [[0, 1]] * (8390 -1)\n",
    "result_set = a + b\n",
    "input_set = np.array(input_set)\n",
    "result_set = np.array(result_set)"
   ]
  },
  {
   "cell_type": "code",
   "execution_count": 85,
   "metadata": {
    "collapsed": true
   },
   "outputs": [],
   "source": [
    "def predict(file, i, j):\n",
    "    model = tf.keras.models.load_model(file)\n",
    "\n",
    "    model.compile(\n",
    "        optimizer=opt,\n",
    "        loss=\"binary_crossentropy\",\n",
    "        metrics=[\"accuracy\"],\n",
    "    )\n",
    "\n",
    "    array = get_pics_from_file(\"data/\" + files[0])[i][j]\n",
    "    array = tf.expand_dims(array, 0)\n",
    "\n",
    "    predictions = model.predict_on_batch(array)\n",
    "    return predictions"
   ]
  },
  {
   "cell_type": "code",
   "execution_count": 77,
   "metadata": {},
   "outputs": [
    {
     "name": "stdout",
     "output_type": "stream",
     "text": [
      "compile done\n",
      "Epoch 1/30\n",
      "358/358 [==============================] - 2s 3ms/step - loss: 0.6462 - accuracy: 0.6235\n",
      "Epoch 2/30\n",
      "358/358 [==============================] - 1s 3ms/step - loss: 0.2499 - accuracy: 0.8948\n",
      "Epoch 3/30\n",
      "358/358 [==============================] - 1s 3ms/step - loss: 0.1683 - accuracy: 0.9292\n",
      "Epoch 4/30\n",
      "358/358 [==============================] - 1s 3ms/step - loss: 0.1238 - accuracy: 0.9500\n",
      "Epoch 5/30\n",
      "358/358 [==============================] - 1s 3ms/step - loss: 0.0953 - accuracy: 0.9604\n",
      "Epoch 6/30\n",
      "358/358 [==============================] - 1s 3ms/step - loss: 0.0815 - accuracy: 0.9703\n",
      "Epoch 7/30\n",
      "358/358 [==============================] - ETA: 0s - loss: 0.0649 - accuracy: 0.97 - 1s 3ms/step - loss: 0.0649 - accuracy: 0.9745\n",
      "Epoch 8/30\n",
      "358/358 [==============================] - 1s 3ms/step - loss: 0.0601 - accuracy: 0.9788\n",
      "Epoch 9/30\n",
      "358/358 [==============================] - 1s 3ms/step - loss: 0.0520 - accuracy: 0.9819\n",
      "Epoch 10/30\n",
      "358/358 [==============================] - 1s 3ms/step - loss: 0.0473 - accuracy: 0.9836\n",
      "Epoch 11/30\n",
      "358/358 [==============================] - 1s 4ms/step - loss: 0.0529 - accuracy: 0.9822\n",
      "Epoch 12/30\n",
      "358/358 [==============================] - 1s 3ms/step - loss: 0.0486 - accuracy: 0.9833\n",
      "Epoch 13/30\n",
      "358/358 [==============================] - 1s 3ms/step - loss: 0.0396 - accuracy: 0.9883\n",
      "Epoch 14/30\n",
      "358/358 [==============================] - 1s 3ms/step - loss: 0.0416 - accuracy: 0.9849\n",
      "Epoch 15/30\n",
      "358/358 [==============================] - 1s 3ms/step - loss: 0.0333 - accuracy: 0.9883\n",
      "Epoch 16/30\n",
      "358/358 [==============================] - 1s 3ms/step - loss: 0.0355 - accuracy: 0.9874: 0s - loss: 0.0351 - accuracy: \n",
      "Epoch 17/30\n",
      "358/358 [==============================] - 1s 3ms/step - loss: 0.0349 - accuracy: 0.9870\n",
      "Epoch 18/30\n",
      "358/358 [==============================] - 1s 3ms/step - loss: 0.0333 - accuracy: 0.9870\n",
      "Epoch 19/30\n",
      "358/358 [==============================] - 1s 3ms/step - loss: 0.0290 - accuracy: 0.9894\n",
      "Epoch 20/30\n",
      "358/358 [==============================] - 1s 3ms/step - loss: 0.0347 - accuracy: 0.9871\n",
      "Epoch 21/30\n",
      "358/358 [==============================] - 1s 3ms/step - loss: 0.0334 - accuracy: 0.9882: 0s - l\n",
      "Epoch 22/30\n",
      "358/358 [==============================] - 1s 3ms/step - loss: 0.0341 - accuracy: 0.9882\n",
      "Epoch 23/30\n",
      "358/358 [==============================] - 1s 3ms/step - loss: 0.0318 - accuracy: 0.9886\n",
      "Epoch 24/30\n",
      "358/358 [==============================] - 1s 3ms/step - loss: 0.0302 - accuracy: 0.9882\n",
      "Epoch 25/30\n",
      "358/358 [==============================] - 1s 3ms/step - loss: 0.0276 - accuracy: 0.9886: 0s - loss: 0.0263 \n",
      "Epoch 26/30\n",
      "358/358 [==============================] - 1s 3ms/step - loss: 0.0307 - accuracy: 0.9887\n",
      "Epoch 27/30\n",
      "358/358 [==============================] - 1s 3ms/step - loss: 0.0251 - accuracy: 0.9899\n",
      "Epoch 28/30\n",
      "358/358 [==============================] - 1s 3ms/step - loss: 0.0269 - accuracy: 0.9894\n",
      "Epoch 29/30\n",
      "358/358 [==============================] - 1s 3ms/step - loss: 0.0275 - accuracy: 0.9898\n",
      "Epoch 30/30\n",
      "358/358 [==============================] - 1s 3ms/step - loss: 0.0286 - accuracy: 0.9880\n",
      "177/177 [==============================] - 0s 2ms/step - loss: 0.0265 - accuracy: 0.9885\n"
     ]
    }
   ],
   "source": [
    "X_train, X_test, y_train, y_test = train_test_split(input_set, result_set, test_size=0.33)\n",
    "\n",
    "# determine the number of input features\n",
    "n_features = X_train.shape[1]\n",
    "# define model\n",
    "model = Sequential()\n",
    "model.add(Dense(17, activation='relu', input_shape=(n_features,)))\n",
    "model.add(Dropout(0.1))\n",
    "model.add(Dense(400, activation='sigmoid'))\n",
    "model.add(Dropout(0.1))\n",
    "model.add(Dense(2, activation='sigmoid'))\n",
    "# compile the model\n",
    "model.compile(optimizer=opt, loss='binary_crossentropy', metrics=[\"accuracy\"])\n",
    "print('compile done')\n",
    "# fit the model\n",
    "model.fit(X_train, y_train, epochs=30, batch_size=32, verbose=1)\n",
    "# evaluate the model\n",
    "error = model.evaluate(X_test, y_test)\n",
    "model.save(\"weight.h5\")\n"
   ]
  },
  {
   "cell_type": "code",
   "execution_count": 87,
   "metadata": {},
   "outputs": [
    {
     "name": "stdout",
     "output_type": "stream",
     "text": [
      "WARNING:tensorflow:Error in loading the saved optimizer state. As a result, your model is starting with a freshly initialized optimizer.\n",
      "Ouverture du fichier de pics data/pics_0.bin\n",
      "Nb pics par trame: 17\n",
      "Frequence d'echantillonnage: 625.0 kHz\n",
      "Frequence trame: 315.0 Hz\n",
      "Frequence pic: 50.0 kHz\n",
      "Facteur de normalisation: 0.05\n",
      "Nb trames: 8701\n",
      "WARNING:tensorflow:9 out of the last 9 calls to <function Model.make_predict_function.<locals>.predict_function at 0x0000015FF9EA6EE8> triggered tf.function retracing. Tracing is expensive and the excessive number of tracings could be due to (1) creating @tf.function repeatedly in a loop, (2) passing tensors with different shapes, (3) passing Python objects instead of tensors. For (1), please define your @tf.function outside of the loop. For (2), @tf.function has experimental_relax_shapes=True option that relaxes argument shapes that can avoid unnecessary retracing. For (3), please refer to https://www.tensorflow.org/guide/function#controlling_retracing and https://www.tensorflow.org/api_docs/python/tf/function for  more details.\n"
     ]
    },
    {
     "data": {
      "text/plain": [
       "array([[9.9997461e-01, 2.5432304e-05]], dtype=float32)"
      ]
     },
     "execution_count": 87,
     "metadata": {},
     "output_type": "execute_result"
    }
   ],
   "source": [
    "predict(\"E:/Hackaton/weight.h5\", 0, 513)"
   ]
  },
  {
   "cell_type": "code",
   "execution_count": null,
   "metadata": {
    "collapsed": true
   },
   "outputs": [],
   "source": []
  }
 ],
 "metadata": {
  "kernelspec": {
   "display_name": "Python 3",
   "language": "python",
   "name": "python3"
  },
  "language_info": {
   "codemirror_mode": {
    "name": "ipython",
    "version": 3
   },
   "file_extension": ".py",
   "mimetype": "text/x-python",
   "name": "python",
   "nbconvert_exporter": "python",
   "pygments_lexer": "ipython3",
   "version": "3.6.2"
  }
 },
 "nbformat": 4,
 "nbformat_minor": 4
}
